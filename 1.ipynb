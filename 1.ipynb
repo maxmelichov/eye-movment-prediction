{
 "cells": [
  {
   "cell_type": "markdown",
   "metadata": {},
   "source": [
    "# IMPORTS"
   ]
  },
  {
   "cell_type": "code",
   "execution_count": 109,
   "metadata": {},
   "outputs": [],
   "source": [
    "import pandas as pd\n",
    "import numpy as np\n",
    "\n",
    "from sklearn.preprocessing import MinMaxScaler, StandardScaler\n",
    "from sklearn.impute import KNNImputer\n",
    "import matplotlib.pyplot as plt\n",
    "from pylab import *\n",
    "\n",
    "import tensorflow as tf\n",
    "from tensorflow import keras\n",
    "\n",
    "from tensorflow.keras import optimizers\n",
    "from tensorflow.keras.utils import plot_model\n",
    "from tensorflow.keras.models import Sequential, Model\n",
    "from tensorflow.python.keras.layers import Dense, LSTM, RepeatVector, Flatten,Dropout\n",
    "from keras.layers import TimeDistributed\n",
    "from sklearn.metrics import mean_squared_error"
   ]
  },
  {
   "cell_type": "code",
   "execution_count": 82,
   "metadata": {},
   "outputs": [
    {
     "name": "stderr",
     "output_type": "stream",
     "text": [
      "C:\\Users\\maxme\\AppData\\Local\\Temp\\ipykernel_34808\\3477112522.py:1: DtypeWarning: Columns (72) have mixed types. Specify dtype option on import or set low_memory=False.\n",
      "  df = pd.read_csv(\"data.csv\")\n"
     ]
    }
   ],
   "source": [
    "df = pd.read_csv(\"data.csv\")"
   ]
  },
  {
   "cell_type": "code",
   "execution_count": 83,
   "metadata": {},
   "outputs": [],
   "source": [
    "need_col = ['Participant name','Presented Stimulus name','Recording start time','Recording resolution height','Recording resolution width','Gaze point left X (DACSmm)','Gaze point left Y (DACSmm)','Gaze point right X (DACSmm)','Gaze point right Y (DACSmm)']"
   ]
  },
  {
   "cell_type": "markdown",
   "metadata": {},
   "source": [
    "## selecting only the columns that I need"
   ]
  },
  {
   "cell_type": "code",
   "execution_count": 84,
   "metadata": {},
   "outputs": [],
   "source": [
    "new_df = pd.DataFrame()\n",
    "for col in need_col:\n",
    "    new_df = pd.concat([new_df,df[col]],axis=1)\n"
   ]
  },
  {
   "cell_type": "code",
   "execution_count": 85,
   "metadata": {},
   "outputs": [
    {
     "data": {
      "text/html": [
       "<div>\n",
       "<style scoped>\n",
       "    .dataframe tbody tr th:only-of-type {\n",
       "        vertical-align: middle;\n",
       "    }\n",
       "\n",
       "    .dataframe tbody tr th {\n",
       "        vertical-align: top;\n",
       "    }\n",
       "\n",
       "    .dataframe thead th {\n",
       "        text-align: right;\n",
       "    }\n",
       "</style>\n",
       "<table border=\"1\" class=\"dataframe\">\n",
       "  <thead>\n",
       "    <tr style=\"text-align: right;\">\n",
       "      <th></th>\n",
       "      <th>Participant name</th>\n",
       "      <th>Presented Stimulus name</th>\n",
       "      <th>Recording start time</th>\n",
       "      <th>Recording resolution height</th>\n",
       "      <th>Recording resolution width</th>\n",
       "      <th>Gaze point left X (DACSmm)</th>\n",
       "      <th>Gaze point left Y (DACSmm)</th>\n",
       "      <th>Gaze point right X (DACSmm)</th>\n",
       "      <th>Gaze point right Y (DACSmm)</th>\n",
       "    </tr>\n",
       "  </thead>\n",
       "  <tbody>\n",
       "    <tr>\n",
       "      <th>0</th>\n",
       "      <td>Participant1</td>\n",
       "      <td>NaN</td>\n",
       "      <td>15:48:26.718</td>\n",
       "      <td>1080</td>\n",
       "      <td>1920</td>\n",
       "      <td>NaN</td>\n",
       "      <td>NaN</td>\n",
       "      <td>NaN</td>\n",
       "      <td>NaN</td>\n",
       "    </tr>\n",
       "    <tr>\n",
       "      <th>1</th>\n",
       "      <td>Participant1</td>\n",
       "      <td>NaN</td>\n",
       "      <td>15:48:26.718</td>\n",
       "      <td>1080</td>\n",
       "      <td>1920</td>\n",
       "      <td>NaN</td>\n",
       "      <td>NaN</td>\n",
       "      <td>NaN</td>\n",
       "      <td>NaN</td>\n",
       "    </tr>\n",
       "    <tr>\n",
       "      <th>2</th>\n",
       "      <td>Participant1</td>\n",
       "      <td>NaN</td>\n",
       "      <td>15:48:26.718</td>\n",
       "      <td>1080</td>\n",
       "      <td>1920</td>\n",
       "      <td>NaN</td>\n",
       "      <td>NaN</td>\n",
       "      <td>NaN</td>\n",
       "      <td>NaN</td>\n",
       "    </tr>\n",
       "    <tr>\n",
       "      <th>3</th>\n",
       "      <td>Participant1</td>\n",
       "      <td>NaN</td>\n",
       "      <td>15:48:26.718</td>\n",
       "      <td>1080</td>\n",
       "      <td>1920</td>\n",
       "      <td>NaN</td>\n",
       "      <td>NaN</td>\n",
       "      <td>NaN</td>\n",
       "      <td>NaN</td>\n",
       "    </tr>\n",
       "    <tr>\n",
       "      <th>4</th>\n",
       "      <td>Participant1</td>\n",
       "      <td>NaN</td>\n",
       "      <td>15:48:26.718</td>\n",
       "      <td>1080</td>\n",
       "      <td>1920</td>\n",
       "      <td>NaN</td>\n",
       "      <td>NaN</td>\n",
       "      <td>NaN</td>\n",
       "      <td>NaN</td>\n",
       "    </tr>\n",
       "    <tr>\n",
       "      <th>...</th>\n",
       "      <td>...</td>\n",
       "      <td>...</td>\n",
       "      <td>...</td>\n",
       "      <td>...</td>\n",
       "      <td>...</td>\n",
       "      <td>...</td>\n",
       "      <td>...</td>\n",
       "      <td>...</td>\n",
       "      <td>...</td>\n",
       "    </tr>\n",
       "    <tr>\n",
       "      <th>106211</th>\n",
       "      <td>Participant7</td>\n",
       "      <td>NaN</td>\n",
       "      <td>16:37:03.636</td>\n",
       "      <td>1080</td>\n",
       "      <td>1920</td>\n",
       "      <td>246.7</td>\n",
       "      <td>128.1</td>\n",
       "      <td>246.9</td>\n",
       "      <td>123.0</td>\n",
       "    </tr>\n",
       "    <tr>\n",
       "      <th>106212</th>\n",
       "      <td>Participant7</td>\n",
       "      <td>NaN</td>\n",
       "      <td>16:37:03.636</td>\n",
       "      <td>1080</td>\n",
       "      <td>1920</td>\n",
       "      <td>247.3</td>\n",
       "      <td>117.1</td>\n",
       "      <td>243.8</td>\n",
       "      <td>123.3</td>\n",
       "    </tr>\n",
       "    <tr>\n",
       "      <th>106213</th>\n",
       "      <td>Participant7</td>\n",
       "      <td>NaN</td>\n",
       "      <td>16:37:03.636</td>\n",
       "      <td>1080</td>\n",
       "      <td>1920</td>\n",
       "      <td>244.1</td>\n",
       "      <td>118.6</td>\n",
       "      <td>247.5</td>\n",
       "      <td>114.3</td>\n",
       "    </tr>\n",
       "    <tr>\n",
       "      <th>106214</th>\n",
       "      <td>Participant7</td>\n",
       "      <td>NaN</td>\n",
       "      <td>16:37:03.636</td>\n",
       "      <td>1080</td>\n",
       "      <td>1920</td>\n",
       "      <td>242.2</td>\n",
       "      <td>120.6</td>\n",
       "      <td>244.5</td>\n",
       "      <td>117.8</td>\n",
       "    </tr>\n",
       "    <tr>\n",
       "      <th>106215</th>\n",
       "      <td>Participant7</td>\n",
       "      <td>NaN</td>\n",
       "      <td>16:37:03.636</td>\n",
       "      <td>1080</td>\n",
       "      <td>1920</td>\n",
       "      <td>NaN</td>\n",
       "      <td>NaN</td>\n",
       "      <td>NaN</td>\n",
       "      <td>NaN</td>\n",
       "    </tr>\n",
       "  </tbody>\n",
       "</table>\n",
       "<p>106216 rows × 9 columns</p>\n",
       "</div>"
      ],
      "text/plain": [
       "       Participant name Presented Stimulus name Recording start time  \\\n",
       "0          Participant1                     NaN         15:48:26.718   \n",
       "1          Participant1                     NaN         15:48:26.718   \n",
       "2          Participant1                     NaN         15:48:26.718   \n",
       "3          Participant1                     NaN         15:48:26.718   \n",
       "4          Participant1                     NaN         15:48:26.718   \n",
       "...                 ...                     ...                  ...   \n",
       "106211     Participant7                     NaN         16:37:03.636   \n",
       "106212     Participant7                     NaN         16:37:03.636   \n",
       "106213     Participant7                     NaN         16:37:03.636   \n",
       "106214     Participant7                     NaN         16:37:03.636   \n",
       "106215     Participant7                     NaN         16:37:03.636   \n",
       "\n",
       "        Recording resolution height  Recording resolution width  \\\n",
       "0                              1080                        1920   \n",
       "1                              1080                        1920   \n",
       "2                              1080                        1920   \n",
       "3                              1080                        1920   \n",
       "4                              1080                        1920   \n",
       "...                             ...                         ...   \n",
       "106211                         1080                        1920   \n",
       "106212                         1080                        1920   \n",
       "106213                         1080                        1920   \n",
       "106214                         1080                        1920   \n",
       "106215                         1080                        1920   \n",
       "\n",
       "        Gaze point left X (DACSmm)  Gaze point left Y (DACSmm)  \\\n",
       "0                              NaN                         NaN   \n",
       "1                              NaN                         NaN   \n",
       "2                              NaN                         NaN   \n",
       "3                              NaN                         NaN   \n",
       "4                              NaN                         NaN   \n",
       "...                            ...                         ...   \n",
       "106211                       246.7                       128.1   \n",
       "106212                       247.3                       117.1   \n",
       "106213                       244.1                       118.6   \n",
       "106214                       242.2                       120.6   \n",
       "106215                         NaN                         NaN   \n",
       "\n",
       "        Gaze point right X (DACSmm)  Gaze point right Y (DACSmm)  \n",
       "0                               NaN                          NaN  \n",
       "1                               NaN                          NaN  \n",
       "2                               NaN                          NaN  \n",
       "3                               NaN                          NaN  \n",
       "4                               NaN                          NaN  \n",
       "...                             ...                          ...  \n",
       "106211                        246.9                        123.0  \n",
       "106212                        243.8                        123.3  \n",
       "106213                        247.5                        114.3  \n",
       "106214                        244.5                        117.8  \n",
       "106215                          NaN                          NaN  \n",
       "\n",
       "[106216 rows x 9 columns]"
      ]
     },
     "execution_count": 85,
     "metadata": {},
     "output_type": "execute_result"
    }
   ],
   "source": [
    "new_df"
   ]
  },
  {
   "cell_type": "code",
   "execution_count": 86,
   "metadata": {},
   "outputs": [
    {
     "data": {
      "text/plain": [
       "Eyetracker Calibration    81785\n",
       "Slide5                     7167\n",
       "Slide1                     4136\n",
       "Slide2                     3965\n",
       "Slide4                     2934\n",
       "Slide3                     2603\n",
       "Slide6                     2539\n",
       "Name: Presented Stimulus name, dtype: int64"
      ]
     },
     "execution_count": 86,
     "metadata": {},
     "output_type": "execute_result"
    }
   ],
   "source": [
    "new_df['Presented Stimulus name'].value_counts()"
   ]
  },
  {
   "cell_type": "markdown",
   "metadata": {},
   "source": [
    "## Choosing the needed slides"
   ]
  },
  {
   "cell_type": "code",
   "execution_count": 87,
   "metadata": {},
   "outputs": [],
   "source": [
    "new_df = new_df.loc[(new_df['Presented Stimulus name']=='Slide4')| (new_df['Presented Stimulus name']=='Slide5')]"
   ]
  },
  {
   "cell_type": "code",
   "execution_count": 88,
   "metadata": {},
   "outputs": [
    {
     "data": {
      "text/plain": [
       "Participant name                  0\n",
       "Presented Stimulus name           0\n",
       "Recording start time              0\n",
       "Recording resolution height       0\n",
       "Recording resolution width        0\n",
       "Gaze point left X (DACSmm)     2133\n",
       "Gaze point left Y (DACSmm)     2133\n",
       "Gaze point right X (DACSmm)    1932\n",
       "Gaze point right Y (DACSmm)    1932\n",
       "dtype: int64"
      ]
     },
     "execution_count": 88,
     "metadata": {},
     "output_type": "execute_result"
    }
   ],
   "source": [
    "new_df.isna().sum()"
   ]
  },
  {
   "cell_type": "markdown",
   "metadata": {},
   "source": [
    "## Droping Nones"
   ]
  },
  {
   "cell_type": "code",
   "execution_count": 89,
   "metadata": {},
   "outputs": [
    {
     "name": "stderr",
     "output_type": "stream",
     "text": [
      "C:\\Users\\maxme\\AppData\\Local\\Temp\\ipykernel_34808\\292937544.py:1: SettingWithCopyWarning: \n",
      "A value is trying to be set on a copy of a slice from a DataFrame\n",
      "\n",
      "See the caveats in the documentation: https://pandas.pydata.org/pandas-docs/stable/user_guide/indexing.html#returning-a-view-versus-a-copy\n",
      "  new_df.dropna(axis =0 , inplace = True)\n"
     ]
    }
   ],
   "source": [
    "new_df.dropna(axis =0 , inplace = True)\n",
    "new_df.reset_index(inplace=True,drop=True)"
   ]
  },
  {
   "cell_type": "code",
   "execution_count": 90,
   "metadata": {},
   "outputs": [
    {
     "data": {
      "text/plain": [
       "Participant name               0\n",
       "Presented Stimulus name        0\n",
       "Recording start time           0\n",
       "Recording resolution height    0\n",
       "Recording resolution width     0\n",
       "Gaze point left X (DACSmm)     0\n",
       "Gaze point left Y (DACSmm)     0\n",
       "Gaze point right X (DACSmm)    0\n",
       "Gaze point right Y (DACSmm)    0\n",
       "dtype: int64"
      ]
     },
     "execution_count": 90,
     "metadata": {},
     "output_type": "execute_result"
    }
   ],
   "source": [
    "new_df.isna().sum()"
   ]
  },
  {
   "cell_type": "markdown",
   "metadata": {},
   "source": [
    "## Replacing the full name of the Participants name and Presented Stimulus name to just numbers"
   ]
  },
  {
   "cell_type": "code",
   "execution_count": 91,
   "metadata": {},
   "outputs": [
    {
     "name": "stderr",
     "output_type": "stream",
     "text": [
      "C:\\Users\\maxme\\AppData\\Local\\Temp\\ipykernel_34808\\2703567294.py:3: SettingWithCopyWarning: \n",
      "A value is trying to be set on a copy of a slice from a DataFrame\n",
      "\n",
      "See the caveats in the documentation: https://pandas.pydata.org/pandas-docs/stable/user_guide/indexing.html#returning-a-view-versus-a-copy\n",
      "  new_df[col][i] = int(new_df[col][i][-1])\n"
     ]
    }
   ],
   "source": [
    "for col in new_df.columns[:2]:\n",
    "    for i in range(len(new_df)):\n",
    "        new_df[col][i] = int(new_df[col][i][-1])"
   ]
  },
  {
   "cell_type": "code",
   "execution_count": 94,
   "metadata": {},
   "outputs": [
    {
     "data": {
      "text/html": [
       "<div>\n",
       "<style scoped>\n",
       "    .dataframe tbody tr th:only-of-type {\n",
       "        vertical-align: middle;\n",
       "    }\n",
       "\n",
       "    .dataframe tbody tr th {\n",
       "        vertical-align: top;\n",
       "    }\n",
       "\n",
       "    .dataframe thead th {\n",
       "        text-align: right;\n",
       "    }\n",
       "</style>\n",
       "<table border=\"1\" class=\"dataframe\">\n",
       "  <thead>\n",
       "    <tr style=\"text-align: right;\">\n",
       "      <th></th>\n",
       "      <th>Participant name</th>\n",
       "      <th>Presented Stimulus name</th>\n",
       "      <th>Recording start time</th>\n",
       "      <th>Recording resolution height</th>\n",
       "      <th>Recording resolution width</th>\n",
       "      <th>Gaze point left X (DACSmm)</th>\n",
       "      <th>Gaze point left Y (DACSmm)</th>\n",
       "      <th>Gaze point right X (DACSmm)</th>\n",
       "      <th>Gaze point right Y (DACSmm)</th>\n",
       "    </tr>\n",
       "  </thead>\n",
       "  <tbody>\n",
       "    <tr>\n",
       "      <th>0</th>\n",
       "      <td>1</td>\n",
       "      <td>4</td>\n",
       "      <td>15:48:26.718</td>\n",
       "      <td>1080</td>\n",
       "      <td>1920</td>\n",
       "      <td>222.5</td>\n",
       "      <td>122.9</td>\n",
       "      <td>238.9</td>\n",
       "      <td>131.1</td>\n",
       "    </tr>\n",
       "    <tr>\n",
       "      <th>1</th>\n",
       "      <td>1</td>\n",
       "      <td>4</td>\n",
       "      <td>15:48:26.718</td>\n",
       "      <td>1080</td>\n",
       "      <td>1920</td>\n",
       "      <td>220.6</td>\n",
       "      <td>119.0</td>\n",
       "      <td>240.7</td>\n",
       "      <td>131.1</td>\n",
       "    </tr>\n",
       "    <tr>\n",
       "      <th>2</th>\n",
       "      <td>1</td>\n",
       "      <td>4</td>\n",
       "      <td>15:48:26.718</td>\n",
       "      <td>1080</td>\n",
       "      <td>1920</td>\n",
       "      <td>222.8</td>\n",
       "      <td>120.5</td>\n",
       "      <td>235.9</td>\n",
       "      <td>128.7</td>\n",
       "    </tr>\n",
       "    <tr>\n",
       "      <th>3</th>\n",
       "      <td>1</td>\n",
       "      <td>4</td>\n",
       "      <td>15:48:26.718</td>\n",
       "      <td>1080</td>\n",
       "      <td>1920</td>\n",
       "      <td>237.4</td>\n",
       "      <td>122.7</td>\n",
       "      <td>238.7</td>\n",
       "      <td>135.2</td>\n",
       "    </tr>\n",
       "    <tr>\n",
       "      <th>4</th>\n",
       "      <td>1</td>\n",
       "      <td>4</td>\n",
       "      <td>15:48:26.718</td>\n",
       "      <td>1080</td>\n",
       "      <td>1920</td>\n",
       "      <td>236.7</td>\n",
       "      <td>126.4</td>\n",
       "      <td>251.9</td>\n",
       "      <td>135.3</td>\n",
       "    </tr>\n",
       "  </tbody>\n",
       "</table>\n",
       "</div>"
      ],
      "text/plain": [
       "  Participant name Presented Stimulus name Recording start time  \\\n",
       "0                1                       4         15:48:26.718   \n",
       "1                1                       4         15:48:26.718   \n",
       "2                1                       4         15:48:26.718   \n",
       "3                1                       4         15:48:26.718   \n",
       "4                1                       4         15:48:26.718   \n",
       "\n",
       "   Recording resolution height  Recording resolution width  \\\n",
       "0                         1080                        1920   \n",
       "1                         1080                        1920   \n",
       "2                         1080                        1920   \n",
       "3                         1080                        1920   \n",
       "4                         1080                        1920   \n",
       "\n",
       "   Gaze point left X (DACSmm)  Gaze point left Y (DACSmm)  \\\n",
       "0                       222.5                       122.9   \n",
       "1                       220.6                       119.0   \n",
       "2                       222.8                       120.5   \n",
       "3                       237.4                       122.7   \n",
       "4                       236.7                       126.4   \n",
       "\n",
       "   Gaze point right X (DACSmm)  Gaze point right Y (DACSmm)  \n",
       "0                        238.9                        131.1  \n",
       "1                        240.7                        131.1  \n",
       "2                        235.9                        128.7  \n",
       "3                        238.7                        135.2  \n",
       "4                        251.9                        135.3  "
      ]
     },
     "execution_count": 94,
     "metadata": {},
     "output_type": "execute_result"
    }
   ],
   "source": [
    "new_df.head()"
   ]
  },
  {
   "cell_type": "code",
   "execution_count": 95,
   "metadata": {},
   "outputs": [
    {
     "name": "stderr",
     "output_type": "stream",
     "text": [
      "C:\\Users\\maxme\\AppData\\Local\\Temp\\ipykernel_34808\\2157373776.py:1: SettingWithCopyWarning: \n",
      "A value is trying to be set on a copy of a slice from a DataFrame.\n",
      "Try using .loc[row_indexer,col_indexer] = value instead\n",
      "\n",
      "See the caveats in the documentation: https://pandas.pydata.org/pandas-docs/stable/user_guide/indexing.html#returning-a-view-versus-a-copy\n",
      "  new_df['Participant name']=new_df['Participant name'].astype(\"int16\")\n",
      "C:\\Users\\maxme\\AppData\\Local\\Temp\\ipykernel_34808\\2157373776.py:2: SettingWithCopyWarning: \n",
      "A value is trying to be set on a copy of a slice from a DataFrame.\n",
      "Try using .loc[row_indexer,col_indexer] = value instead\n",
      "\n",
      "See the caveats in the documentation: https://pandas.pydata.org/pandas-docs/stable/user_guide/indexing.html#returning-a-view-versus-a-copy\n",
      "  new_df['Presented Stimulus name']=new_df['Presented Stimulus name'].astype(\"int16\")\n"
     ]
    }
   ],
   "source": [
    "new_df['Participant name']=new_df['Participant name'].astype(\"int16\")\n",
    "new_df['Presented Stimulus name']=new_df['Presented Stimulus name'].astype(\"int16\")"
   ]
  },
  {
   "cell_type": "code",
   "execution_count": 181,
   "metadata": {},
   "outputs": [],
   "source": [
    "# Time = new_df['Recording start time']"
   ]
  },
  {
   "cell_type": "code",
   "execution_count": 182,
   "metadata": {},
   "outputs": [],
   "source": [
    "# new_df.drop('Recording start time',axis =1,inplace=True )"
   ]
  },
  {
   "cell_type": "code",
   "execution_count": 183,
   "metadata": {},
   "outputs": [],
   "source": [
    "# imputer = KNNImputer(n_neighbors=5)\n",
    "# knn = imputer.fit(new_df)\n",
    "# new_df=pd.DataFrame(knn.transform(new_df),columns=new_df.columns)"
   ]
  },
  {
   "cell_type": "code",
   "execution_count": 185,
   "metadata": {},
   "outputs": [],
   "source": [
    "# #normalize\n",
    "# new_df['Gaze point left X (DACSmm)'] = new_df['Gaze point left X (DACSmm)'] *1./ new_df[\"Recording resolution width\"][0]\n",
    "# new_df['Gaze point right X (DACSmm)'] =new_df['Gaze point right X (DACSmm)'] *1./new_df[\"Recording resolution width\"][0]\n",
    "# new_df['Gaze point left Y (DACSmm)'] = new_df['Gaze point left Y (DACSmm)'] *1./ new_df[\"Recording resolution height\"][0]\n",
    "# new_df['Gaze point right Y (DACSmm)'] =new_df['Gaze point right Y (DACSmm)'] *1./new_df[\"Recording resolution height\"][0]"
   ]
  },
  {
   "cell_type": "code",
   "execution_count": 186,
   "metadata": {},
   "outputs": [
    {
     "name": "stderr",
     "output_type": "stream",
     "text": [
      "C:\\Users\\maxme\\AppData\\Local\\Temp\\ipykernel_7876\\3818357427.py:3: SettingWithCopyWarning: \n",
      "A value is trying to be set on a copy of a slice from a DataFrame\n",
      "\n",
      "See the caveats in the documentation: https://pandas.pydata.org/pandas-docs/stable/user_guide/indexing.html#returning-a-view-versus-a-copy\n",
      "  new_df['Recording start time'][i] = Time[i]\n"
     ]
    }
   ],
   "source": [
    "# new_df['Recording start time'] = 0 \n",
    "# for i in range(len(Time)):\n",
    "#     new_df['Recording start time'][i] = Time[i]"
   ]
  },
  {
   "cell_type": "code",
   "execution_count": 97,
   "metadata": {},
   "outputs": [
    {
     "name": "stdout",
     "output_type": "stream",
     "text": [
      "<class 'pandas.core.frame.DataFrame'>\n",
      "RangeIndex: 7452 entries, 0 to 7451\n",
      "Data columns (total 9 columns):\n",
      " #   Column                       Non-Null Count  Dtype  \n",
      "---  ------                       --------------  -----  \n",
      " 0   Participant name             7452 non-null   int16  \n",
      " 1   Presented Stimulus name      7452 non-null   int16  \n",
      " 2   Recording start time         7452 non-null   object \n",
      " 3   Recording resolution height  7452 non-null   int64  \n",
      " 4   Recording resolution width   7452 non-null   int64  \n",
      " 5   Gaze point left X (DACSmm)   7452 non-null   float64\n",
      " 6   Gaze point left Y (DACSmm)   7452 non-null   float64\n",
      " 7   Gaze point right X (DACSmm)  7452 non-null   float64\n",
      " 8   Gaze point right Y (DACSmm)  7452 non-null   float64\n",
      "dtypes: float64(4), int16(2), int64(2), object(1)\n",
      "memory usage: 436.8+ KB\n"
     ]
    }
   ],
   "source": [
    "new_df.info()"
   ]
  },
  {
   "cell_type": "markdown",
   "metadata": {},
   "source": [
    "saving"
   ]
  },
  {
   "cell_type": "code",
   "execution_count": null,
   "metadata": {},
   "outputs": [],
   "source": [
    "new_df.to_csv(\"DF.csv\")\n"
   ]
  },
  {
   "cell_type": "code",
   "execution_count": 98,
   "metadata": {},
   "outputs": [],
   "source": [
    "new_df.to_csv(\"DF.csv\")"
   ]
  },
  {
   "cell_type": "code",
   "execution_count": 99,
   "metadata": {},
   "outputs": [],
   "source": [
    "\n",
    "df= pd.read_csv(\"DF.csv\",parse_dates=['Recording start time'], index_col='Recording start time')\n",
    "\n",
    "df.drop('Unnamed: 0',axis = 1,inplace=True)"
   ]
  },
  {
   "cell_type": "code",
   "execution_count": 100,
   "metadata": {},
   "outputs": [
    {
     "data": {
      "text/html": [
       "<div>\n",
       "<style scoped>\n",
       "    .dataframe tbody tr th:only-of-type {\n",
       "        vertical-align: middle;\n",
       "    }\n",
       "\n",
       "    .dataframe tbody tr th {\n",
       "        vertical-align: top;\n",
       "    }\n",
       "\n",
       "    .dataframe thead th {\n",
       "        text-align: right;\n",
       "    }\n",
       "</style>\n",
       "<table border=\"1\" class=\"dataframe\">\n",
       "  <thead>\n",
       "    <tr style=\"text-align: right;\">\n",
       "      <th></th>\n",
       "      <th>Participant name</th>\n",
       "      <th>Presented Stimulus name</th>\n",
       "      <th>Recording resolution height</th>\n",
       "      <th>Recording resolution width</th>\n",
       "      <th>Gaze point left X (DACSmm)</th>\n",
       "      <th>Gaze point left Y (DACSmm)</th>\n",
       "      <th>Gaze point right X (DACSmm)</th>\n",
       "      <th>Gaze point right Y (DACSmm)</th>\n",
       "    </tr>\n",
       "    <tr>\n",
       "      <th>Recording start time</th>\n",
       "      <th></th>\n",
       "      <th></th>\n",
       "      <th></th>\n",
       "      <th></th>\n",
       "      <th></th>\n",
       "      <th></th>\n",
       "      <th></th>\n",
       "      <th></th>\n",
       "    </tr>\n",
       "  </thead>\n",
       "  <tbody>\n",
       "    <tr>\n",
       "      <th>2022-09-08 15:48:26.718</th>\n",
       "      <td>1</td>\n",
       "      <td>4</td>\n",
       "      <td>1080</td>\n",
       "      <td>1920</td>\n",
       "      <td>222.5</td>\n",
       "      <td>122.9</td>\n",
       "      <td>238.9</td>\n",
       "      <td>131.1</td>\n",
       "    </tr>\n",
       "    <tr>\n",
       "      <th>2022-09-08 15:48:26.718</th>\n",
       "      <td>1</td>\n",
       "      <td>4</td>\n",
       "      <td>1080</td>\n",
       "      <td>1920</td>\n",
       "      <td>220.6</td>\n",
       "      <td>119.0</td>\n",
       "      <td>240.7</td>\n",
       "      <td>131.1</td>\n",
       "    </tr>\n",
       "    <tr>\n",
       "      <th>2022-09-08 15:48:26.718</th>\n",
       "      <td>1</td>\n",
       "      <td>4</td>\n",
       "      <td>1080</td>\n",
       "      <td>1920</td>\n",
       "      <td>222.8</td>\n",
       "      <td>120.5</td>\n",
       "      <td>235.9</td>\n",
       "      <td>128.7</td>\n",
       "    </tr>\n",
       "    <tr>\n",
       "      <th>2022-09-08 15:48:26.718</th>\n",
       "      <td>1</td>\n",
       "      <td>4</td>\n",
       "      <td>1080</td>\n",
       "      <td>1920</td>\n",
       "      <td>237.4</td>\n",
       "      <td>122.7</td>\n",
       "      <td>238.7</td>\n",
       "      <td>135.2</td>\n",
       "    </tr>\n",
       "    <tr>\n",
       "      <th>2022-09-08 15:48:26.718</th>\n",
       "      <td>1</td>\n",
       "      <td>4</td>\n",
       "      <td>1080</td>\n",
       "      <td>1920</td>\n",
       "      <td>236.7</td>\n",
       "      <td>126.4</td>\n",
       "      <td>251.9</td>\n",
       "      <td>135.3</td>\n",
       "    </tr>\n",
       "  </tbody>\n",
       "</table>\n",
       "</div>"
      ],
      "text/plain": [
       "                         Participant name  Presented Stimulus name  \\\n",
       "Recording start time                                                 \n",
       "2022-09-08 15:48:26.718                 1                        4   \n",
       "2022-09-08 15:48:26.718                 1                        4   \n",
       "2022-09-08 15:48:26.718                 1                        4   \n",
       "2022-09-08 15:48:26.718                 1                        4   \n",
       "2022-09-08 15:48:26.718                 1                        4   \n",
       "\n",
       "                         Recording resolution height  \\\n",
       "Recording start time                                   \n",
       "2022-09-08 15:48:26.718                         1080   \n",
       "2022-09-08 15:48:26.718                         1080   \n",
       "2022-09-08 15:48:26.718                         1080   \n",
       "2022-09-08 15:48:26.718                         1080   \n",
       "2022-09-08 15:48:26.718                         1080   \n",
       "\n",
       "                         Recording resolution width  \\\n",
       "Recording start time                                  \n",
       "2022-09-08 15:48:26.718                        1920   \n",
       "2022-09-08 15:48:26.718                        1920   \n",
       "2022-09-08 15:48:26.718                        1920   \n",
       "2022-09-08 15:48:26.718                        1920   \n",
       "2022-09-08 15:48:26.718                        1920   \n",
       "\n",
       "                         Gaze point left X (DACSmm)  \\\n",
       "Recording start time                                  \n",
       "2022-09-08 15:48:26.718                       222.5   \n",
       "2022-09-08 15:48:26.718                       220.6   \n",
       "2022-09-08 15:48:26.718                       222.8   \n",
       "2022-09-08 15:48:26.718                       237.4   \n",
       "2022-09-08 15:48:26.718                       236.7   \n",
       "\n",
       "                         Gaze point left Y (DACSmm)  \\\n",
       "Recording start time                                  \n",
       "2022-09-08 15:48:26.718                       122.9   \n",
       "2022-09-08 15:48:26.718                       119.0   \n",
       "2022-09-08 15:48:26.718                       120.5   \n",
       "2022-09-08 15:48:26.718                       122.7   \n",
       "2022-09-08 15:48:26.718                       126.4   \n",
       "\n",
       "                         Gaze point right X (DACSmm)  \\\n",
       "Recording start time                                   \n",
       "2022-09-08 15:48:26.718                        238.9   \n",
       "2022-09-08 15:48:26.718                        240.7   \n",
       "2022-09-08 15:48:26.718                        235.9   \n",
       "2022-09-08 15:48:26.718                        238.7   \n",
       "2022-09-08 15:48:26.718                        251.9   \n",
       "\n",
       "                         Gaze point right Y (DACSmm)  \n",
       "Recording start time                                  \n",
       "2022-09-08 15:48:26.718                        131.1  \n",
       "2022-09-08 15:48:26.718                        131.1  \n",
       "2022-09-08 15:48:26.718                        128.7  \n",
       "2022-09-08 15:48:26.718                        135.2  \n",
       "2022-09-08 15:48:26.718                        135.3  "
      ]
     },
     "execution_count": 100,
     "metadata": {},
     "output_type": "execute_result"
    }
   ],
   "source": [
    "df.head()"
   ]
  },
  {
   "cell_type": "markdown",
   "metadata": {},
   "source": [
    "## Spliting the participants between the two different experiments"
   ]
  },
  {
   "cell_type": "markdown",
   "metadata": {},
   "source": [
    "Time line 1: Participant 1,4,5 \n",
    "\n",
    "Time line 2: Participant 2,3,6,7"
   ]
  },
  {
   "cell_type": "code",
   "execution_count": 101,
   "metadata": {},
   "outputs": [],
   "source": [
    "Timeline1 = df.loc[(df['Participant name']==1) | (df['Participant name'] ==4) | (df['Participant name'] ==5)]"
   ]
  },
  {
   "cell_type": "code",
   "execution_count": 102,
   "metadata": {},
   "outputs": [],
   "source": [
    "Timeline1 =Timeline1.iloc[:,4:]"
   ]
  },
  {
   "cell_type": "code",
   "execution_count": 103,
   "metadata": {},
   "outputs": [],
   "source": [
    "Timeline1=np.array(Timeline1)"
   ]
  },
  {
   "cell_type": "code",
   "execution_count": 121,
   "metadata": {},
   "outputs": [
    {
     "data": {
      "text/plain": [
       "(2186, 4)"
      ]
     },
     "execution_count": 121,
     "metadata": {},
     "output_type": "execute_result"
    }
   ],
   "source": [
    "Timeline1.shape"
   ]
  },
  {
   "cell_type": "code",
   "execution_count": 596,
   "metadata": {},
   "outputs": [],
   "source": [
    "def datacreation(Timeline):\n",
    "  window  = 15   #time series length\n",
    "  skip    = 1\n",
    "  next    = 1    #predict point in next steps\n",
    "\n",
    "  x_data = []\n",
    "  y_data = [] \n",
    "\n",
    "  for i in range( 0, len(Timeline) - window - next, skip ):\n",
    "    x_data.append( Timeline[i:i+window] )\n",
    "    y_data.append( Timeline[i+window+next] )\n",
    "\n",
    "  x_data_np = np.array(x_data)\n",
    "  y_data_np = np.array(y_data)\n",
    "\n",
    "  print(\"x_data_np\", x_data_np.shape,\"y_data_np\", y_data_np.shape)\n",
    "  return x_data_np,y_data_np"
   ]
  },
  {
   "cell_type": "code",
   "execution_count": 597,
   "metadata": {},
   "outputs": [],
   "source": [
    "def dataengineering(x_data_np,y_data_np):\n",
    "  #normalize\n",
    "  scaler = MinMaxScaler(feature_range=(0, 1))\n",
    "  x_data0 = scaler.fit_transform(x_data_np[:,:,0])\n",
    "  x_data1 = scaler.fit_transform(x_data_np[:,:,1])\n",
    "\n",
    "  y_data0 = scaler.fit_transform(y_data_np[:,0].reshape(-1,1))\n",
    "  y_data1 = scaler.fit_transform(y_data_np[:,1].reshape(-1,1))\n",
    "\n",
    "  x_data2 = scaler.fit_transform(x_data_np[:,:,2])\n",
    "  x_data3 = scaler.fit_transform(x_data_np[:,:,3])\n",
    "\n",
    "  y_data2 = scaler.fit_transform(y_data_np[:,2].reshape(-1,1))\n",
    "  y_data3 = scaler.fit_transform(y_data_np[:,3].reshape(-1,1))\n",
    "  # x_data0 = x_data_np[:,:,0] *1./1920\n",
    "  # x_data1 = x_data_np[:,:,1] *1./1080\n",
    "  # y_data0 = y_data_np[:,0] *1./1920\n",
    "  # y_data1 = y_data_np[:,1] *1./1080\n",
    "\n",
    "  # x_data2 = x_data_np[:,:,2] *1./1920\n",
    "  # x_data3 = x_data_np[:,:,3] *1./1080\n",
    "\n",
    "  # y_data2 = y_data_np[:,2] *1./1920\n",
    "  # y_data3 = y_data_np[:,3] *1./1080\t\n",
    "\n",
    "\n",
    "  #exapnad dim\n",
    "  x_data0 = x_data0.reshape((x_data0.shape[0],x_data0.shape[1],1))\n",
    "  x_data1 = x_data1.reshape((x_data1.shape[0],x_data1.shape[1],1))\n",
    "\n",
    "  y_data0 = y_data0.reshape((y_data0.shape[0],1))\n",
    "  y_data1 = y_data1.reshape((y_data1.shape[0],1))\n",
    "\n",
    "  x_data2 = x_data0.reshape((x_data2.shape[0],x_data2.shape[1],1))\n",
    "  x_data3 = x_data1.reshape((x_data3.shape[0],x_data3.shape[1],1))\n",
    "  \n",
    "  y_data2 = y_data2.reshape((y_data2.shape[0],1))\n",
    "  y_data3 = y_data3.reshape((y_data3.shape[0],1))\n",
    "\n",
    "\n",
    "  \n",
    "\n",
    "\n",
    "  #final array normalized\n",
    "  x_data = np.concatenate((x_data0,x_data1,x_data2,x_data3),axis=2)\n",
    "  y_data = np.concatenate((y_data0,y_data1,y_data2,y_data3),axis=1)\n",
    "\n",
    "\n",
    "  #Check correctness\n",
    "  print(\"y_data\", y_data.shape,\"x_data\", x_data.shape)\n",
    "\n",
    "  print(np.min(x_data[:,:,0]))\n",
    "  print(np.min(x_data[:,:,1]))\n",
    "  print(np.max(x_data[:,:,2]))\n",
    "  print(np.max(x_data[:,:,3]))\n",
    "\n",
    "  print(np.min(y_data[:,0]))\n",
    "  print(np.min(y_data[:,1]))\n",
    "  print(np.max(y_data[:,2]))\n",
    "  print(np.max(y_data[:,3]))\n",
    "  return x_data,y_data\n"
   ]
  },
  {
   "cell_type": "code",
   "execution_count": 598,
   "metadata": {},
   "outputs": [],
   "source": [
    "def test_train_split(x_data,y_data):\n",
    "  #Train on the start of sequence ; test on the end of sequence\n",
    "  index = int(x_data.shape[0]*0.8)\n",
    "\n",
    "  X_train = x_data[:index,:,:]\n",
    "  X_val = x_data[index:,:,:]\n",
    "\n",
    "  Y_train = y_data[:index,:]\n",
    "  Y_val = y_data[index:,:] \n",
    "\n",
    "  print('Train set shape', X_train.shape)\n",
    "  print('Validation set shape', X_val.shape)\n",
    "  print(\"y_train set shape\",Y_train.shape)\n",
    "  print('Validation label shape', Y_val.shape)\n",
    "  return X_train,X_val,Y_train,Y_val"
   ]
  },
  {
   "cell_type": "code",
   "execution_count": 643,
   "metadata": {},
   "outputs": [],
   "source": [
    "def get_model1(X_train,Y_train):\n",
    "\n",
    "  model_lstm= keras.Sequential()\n",
    "\n",
    "  model_lstm.add(keras.layers.LSTM(units=128,input_shape=(X_train.shape[1],X_train.shape[2])))\n",
    "  model_lstm.add(keras.layers.Dropout(rate=0.3))\n",
    "\n",
    "  model_lstm.add(keras.layers.RepeatVector(n=X_train.shape[2]))\n",
    "  model_lstm.add(keras.layers.LSTM(units=128,return_sequences=True))\n",
    "\n",
    "  model_lstm.add(keras.layers.Dropout(rate=0.3))\n",
    "\n",
    "  model_lstm.add(keras.layers.TimeDistributed(keras.layers.Dense(units=Y_train.shape[1])))\n",
    "  model_lstm.add(keras.layers.Flatten())\n",
    "  model_lstm.add(Dense(1024))\n",
    "  model_lstm.add(Dense(Y_train.shape[1],activation='linear'))\n",
    "  model_lstm.compile(loss='mae',optimizer ='adam')\n",
    "#   model_lstm = Sequential()\n",
    "#   model_lstm.add(LSTM(32, return_sequences=True, input_shape=(X_train.shape[1], X_train.shape[2]))) #layer 1\n",
    "#   # model_lstm.add(LSTM(256)) # layer 2\n",
    "#   model_lstm.add(LSTM(32))\n",
    "#   model_lstm.add(Dense(32)) \n",
    "#   model_lstm.add(Dense(Y_train.shape[1],activation='linear'))\n",
    "#   model_lstm.compile(loss='mse', optimizer='adam')\n",
    "  return model_lstm"
   ]
  },
  {
   "cell_type": "markdown",
   "metadata": {},
   "source": [
    "## Autoencoder"
   ]
  },
  {
   "cell_type": "code",
   "execution_count": 659,
   "metadata": {},
   "outputs": [],
   "source": [
    "def get_model2(X_train,Y_train):\n",
    "\n",
    "  model_lstm= keras.Sequential()\n",
    "\n",
    "  model_lstm.add(keras.layers.LSTM(units=128,input_shape=(X_train.shape[1],X_train.shape[2])))\n",
    "  model_lstm.add(keras.layers.Dropout(rate=0.2))\n",
    "\n",
    "  model_lstm.add(keras.layers.RepeatVector(n=X_train.shape[2]))\n",
    "  model_lstm.add(keras.layers.LSTM(units=128,return_sequences=True))\n",
    "\n",
    "  model_lstm.add(keras.layers.Dropout(rate=0.2))\n",
    "\n",
    "  model_lstm.add(keras.layers.TimeDistributed(keras.layers.Dense(units=Y_train.shape[1])))\n",
    "  model_lstm.add(keras.layers.Flatten())\n",
    "  model_lstm.add(Dense(512))\n",
    "  model_lstm.add(Dense(Y_train.shape[1],activation='linear'))\n",
    "  model_lstm.compile(loss='mae',optimizer ='adam')\n",
    "#   model_lstm = Sequential()\n",
    "#   model_lstm.add(LSTM(32, return_sequences=True, input_shape=(X_train.shape[1], X_train.shape[2]))) #layer 1\n",
    "#   # model_lstm.add(LSTM(256)) # layer 2\n",
    "#   model_lstm.add(LSTM(32))\n",
    "#   model_lstm.add(Dense(32)) \n",
    "#   model_lstm.add(Dense(Y_train.shape[1],activation='linear'))\n",
    "#   model_lstm.compile(loss='mse', optimizer='adam')\n",
    "  return model_lstm"
   ]
  },
  {
   "cell_type": "code",
   "execution_count": 645,
   "metadata": {},
   "outputs": [
    {
     "name": "stdout",
     "output_type": "stream",
     "text": [
      "x_data_np (2170, 15, 4) y_data_np (2170, 4)\n",
      "y_data (2170, 4) x_data (2170, 15, 4)\n",
      "0.0\n",
      "0.0\n",
      "1.0\n",
      "1.0\n",
      "0.0\n",
      "0.0\n",
      "0.9999999999999999\n",
      "1.0\n",
      "Train set shape (1736, 15, 4)\n",
      "Validation set shape (434, 15, 4)\n",
      "y_train set shape (1736, 4)\n",
      "Validation label shape (434, 4)\n",
      "Epoch 1/50\n",
      "109/109 - 3s - loss: 0.0983 - val_loss: 0.0601 - 3s/epoch - 27ms/step\n",
      "Epoch 2/50\n",
      "109/109 - 1s - loss: 0.0544 - val_loss: 0.0637 - 932ms/epoch - 9ms/step\n",
      "Epoch 3/50\n",
      "109/109 - 1s - loss: 0.0489 - val_loss: 0.0674 - 864ms/epoch - 8ms/step\n",
      "Epoch 4/50\n",
      "109/109 - 1s - loss: 0.0454 - val_loss: 0.0617 - 891ms/epoch - 8ms/step\n",
      "Epoch 5/50\n",
      "109/109 - 1s - loss: 0.0421 - val_loss: 0.0494 - 875ms/epoch - 8ms/step\n",
      "Epoch 6/50\n",
      "109/109 - 1s - loss: 0.0410 - val_loss: 0.0396 - 873ms/epoch - 8ms/step\n",
      "Epoch 7/50\n",
      "109/109 - 1s - loss: 0.0410 - val_loss: 0.0404 - 878ms/epoch - 8ms/step\n",
      "Epoch 8/50\n",
      "109/109 - 1s - loss: 0.0409 - val_loss: 0.0376 - 896ms/epoch - 8ms/step\n",
      "Epoch 9/50\n",
      "109/109 - 1s - loss: 0.0389 - val_loss: 0.0445 - 884ms/epoch - 8ms/step\n",
      "Epoch 10/50\n",
      "109/109 - 1s - loss: 0.0385 - val_loss: 0.0369 - 861ms/epoch - 8ms/step\n",
      "Epoch 11/50\n",
      "109/109 - 1s - loss: 0.0386 - val_loss: 0.0393 - 893ms/epoch - 8ms/step\n",
      "Epoch 12/50\n",
      "109/109 - 1s - loss: 0.0379 - val_loss: 0.0407 - 861ms/epoch - 8ms/step\n",
      "Epoch 13/50\n",
      "109/109 - 1s - loss: 0.0388 - val_loss: 0.0409 - 854ms/epoch - 8ms/step\n",
      "Epoch 14/50\n",
      "109/109 - 1s - loss: 0.0388 - val_loss: 0.0478 - 853ms/epoch - 8ms/step\n",
      "Epoch 15/50\n",
      "109/109 - 1s - loss: 0.0389 - val_loss: 0.0364 - 856ms/epoch - 8ms/step\n",
      "Epoch 16/50\n",
      "109/109 - 1s - loss: 0.0389 - val_loss: 0.0395 - 856ms/epoch - 8ms/step\n",
      "Epoch 17/50\n",
      "109/109 - 1s - loss: 0.0383 - val_loss: 0.0426 - 833ms/epoch - 8ms/step\n",
      "Epoch 18/50\n",
      "109/109 - 1s - loss: 0.0397 - val_loss: 0.0406 - 857ms/epoch - 8ms/step\n",
      "Epoch 19/50\n",
      "109/109 - 1s - loss: 0.0390 - val_loss: 0.0459 - 843ms/epoch - 8ms/step\n",
      "Epoch 20/50\n",
      "109/109 - 1s - loss: 0.0387 - val_loss: 0.0379 - 836ms/epoch - 8ms/step\n",
      "Epoch 21/50\n",
      "109/109 - 1s - loss: 0.0386 - val_loss: 0.0357 - 841ms/epoch - 8ms/step\n",
      "Epoch 22/50\n",
      "109/109 - 1s - loss: 0.0376 - val_loss: 0.0476 - 832ms/epoch - 8ms/step\n",
      "Epoch 23/50\n",
      "109/109 - 1s - loss: 0.0374 - val_loss: 0.0416 - 838ms/epoch - 8ms/step\n",
      "Epoch 24/50\n",
      "109/109 - 1s - loss: 0.0374 - val_loss: 0.0381 - 860ms/epoch - 8ms/step\n",
      "Epoch 25/50\n",
      "109/109 - 1s - loss: 0.0375 - val_loss: 0.0411 - 871ms/epoch - 8ms/step\n",
      "Epoch 26/50\n",
      "109/109 - 1s - loss: 0.0404 - val_loss: 0.0390 - 840ms/epoch - 8ms/step\n",
      "Epoch 27/50\n",
      "109/109 - 1s - loss: 0.0375 - val_loss: 0.0414 - 835ms/epoch - 8ms/step\n",
      "Epoch 28/50\n",
      "109/109 - 1s - loss: 0.0375 - val_loss: 0.0402 - 830ms/epoch - 8ms/step\n",
      "Epoch 29/50\n",
      "109/109 - 1s - loss: 0.0371 - val_loss: 0.0363 - 832ms/epoch - 8ms/step\n",
      "Epoch 30/50\n",
      "109/109 - 1s - loss: 0.0378 - val_loss: 0.0361 - 829ms/epoch - 8ms/step\n",
      "Epoch 31/50\n",
      "109/109 - 1s - loss: 0.0377 - val_loss: 0.0473 - 837ms/epoch - 8ms/step\n"
     ]
    }
   ],
   "source": [
    "x_data_np,y_data_np= datacreation(Timeline1)\n",
    "x_data,y_data = dataengineering(x_data_np,y_data_np)\n",
    "X_train,X_val,Y_train,Y_val = test_train_split(x_data,y_data) \n",
    "model_lstm = get_model1(X_train,Y_train)\n",
    "lstm_history = model_lstm.fit(X_train, Y_train, validation_data=(X_val, Y_val),\n",
    "epochs=50, verbose=2,batch_size = 16,\n",
    "callbacks = [keras.callbacks.EarlyStopping(monitor = 'val_loss', patience = 10, restore_best_weights = True)])"
   ]
  },
  {
   "cell_type": "code",
   "execution_count": 646,
   "metadata": {},
   "outputs": [
    {
     "data": {
      "image/png": "[encoded data removed]",
      "text/plain": [
       "<Figure size 432x288 with 1 Axes>"
      ]
     },
     "metadata": {
      "needs_background": "light"
     },
     "output_type": "display_data"
    }
   ],
   "source": [
    "plot(lstm_history.history['loss'], label='Train loss')\n",
    "plot(lstm_history.history['val_loss'], label='Validation loss')\n",
    "plt.legend()\n",
    "plt.show()"
   ]
  },
  {
   "cell_type": "code",
   "execution_count": 647,
   "metadata": {},
   "outputs": [
    {
     "name": "stdout",
     "output_type": "stream",
     "text": [
      "MAE: 0.035698\n"
     ]
    }
   ],
   "source": [
    "loss = model_lstm.evaluate(X_val, Y_val, verbose=0)\n",
    "print('MAE: %f' % loss)"
   ]
  },
  {
   "cell_type": "code",
   "execution_count": 648,
   "metadata": {},
   "outputs": [
    {
     "data": {
      "image/png": "[encoded data removed]",
      "text/plain": [
       "<Figure size 432x288 with 1 Axes>"
      ]
     },
     "metadata": {
      "needs_background": "light"
     },
     "output_type": "display_data"
    },
    {
     "data": {
      "image/png": "[encoded data removed]",
      "text/plain": [
       "<Figure size 432x288 with 1 Axes>"
      ]
     },
     "metadata": {
      "needs_background": "light"
     },
     "output_type": "display_data"
    },
    {
     "data": {
      "image/png": "[encoded data removed]",
      "text/plain": [
       "<Figure size 432x288 with 1 Axes>"
      ]
     },
     "metadata": {
      "needs_background": "light"
     },
     "output_type": "display_data"
    },
    {
     "data": {
      "image/png": "[encoded data removed]",
      "text/plain": [
       "<Figure size 432x288 with 1 Axes>"
      ]
     },
     "metadata": {
      "needs_background": "light"
     },
     "output_type": "display_data"
    }
   ],
   "source": [
    "#X left  axis value prediction\n",
    "yhat = model_lstm.predict(X_val, verbose=0)\n",
    "plt.plot(Y_val[:,0], label='y0')\n",
    "plt.plot(yhat[:,0], label='y0hat')\n",
    "plt.legend()\n",
    "plt.show()\n",
    "\n",
    "#Y left axis value prediction\n",
    "yhat = model_lstm.predict(X_val, verbose=0)\n",
    "plt.plot(Y_val[:,1], label='y1')\n",
    "plt.plot(yhat[:,1], label='y1hat')\n",
    "plt.legend()\n",
    "plt.show()\n",
    "\n",
    "#X right axis value prediction\n",
    "yhat = model_lstm.predict(X_val, verbose=0)\n",
    "plt.plot(Y_val[:,2], label='X right')\n",
    "plt.plot(yhat[:,2], label='X right pred')\n",
    "plt.legend()\n",
    "plt.show()\n",
    "\n",
    "#Y right axis value prediction\n",
    "yhat = model_lstm.predict(X_val, verbose=0)\n",
    "plt.plot(Y_val[:,3], label='Y right')\n",
    "plt.plot(yhat[:,3], label='Y right pred')\n",
    "plt.legend()\n",
    "plt.show()\n",
    "\n"
   ]
  },
  {
   "cell_type": "code",
   "execution_count": 660,
   "metadata": {},
   "outputs": [],
   "source": [
    "Timeline2 = df.loc[(df['Participant name']==2) | (df['Participant name'] ==3) | (df['Participant name'] ==6)| (df['Participant name'] ==7)]"
   ]
  },
  {
   "cell_type": "code",
   "execution_count": 661,
   "metadata": {},
   "outputs": [
    {
     "data": {
      "text/plain": [
       "(5266, 4)"
      ]
     },
     "execution_count": 661,
     "metadata": {},
     "output_type": "execute_result"
    }
   ],
   "source": [
    "Timeline2 =Timeline2.iloc[:,4:]\n",
    "Timeline2.shape"
   ]
  },
  {
   "cell_type": "code",
   "execution_count": 662,
   "metadata": {},
   "outputs": [],
   "source": [
    "Timeline2=np.array(Timeline2)"
   ]
  },
  {
   "cell_type": "code",
   "execution_count": 667,
   "metadata": {},
   "outputs": [
    {
     "name": "stdout",
     "output_type": "stream",
     "text": [
      "x_data_np (5250, 15, 4) y_data_np (5250, 4)\n",
      "y_data (5250, 4) x_data (5250, 15, 4)\n",
      "0.0\n",
      "0.0\n",
      "1.0000000000000002\n",
      "1.0000000000000002\n",
      "0.0\n",
      "0.0\n",
      "0.9999999999999999\n",
      "1.0\n",
      "Train set shape (4200, 15, 4)\n",
      "Validation set shape (1050, 15, 4)\n",
      "y_train set shape (4200, 4)\n",
      "Validation label shape (1050, 4)\n",
      "Epoch 1/50\n",
      "263/263 - 4s - loss: 0.0674 - val_loss: 0.0276 - 4s/epoch - 16ms/step\n",
      "Epoch 2/50\n",
      "263/263 - 2s - loss: 0.0377 - val_loss: 0.0238 - 2s/epoch - 8ms/step\n",
      "Epoch 3/50\n",
      "263/263 - 2s - loss: 0.0342 - val_loss: 0.0226 - 2s/epoch - 8ms/step\n",
      "Epoch 4/50\n",
      "263/263 - 2s - loss: 0.0318 - val_loss: 0.0256 - 2s/epoch - 8ms/step\n",
      "Epoch 5/50\n",
      "263/263 - 2s - loss: 0.0317 - val_loss: 0.0254 - 2s/epoch - 8ms/step\n",
      "Epoch 6/50\n",
      "263/263 - 2s - loss: 0.0311 - val_loss: 0.0266 - 2s/epoch - 8ms/step\n",
      "Epoch 7/50\n",
      "263/263 - 2s - loss: 0.0301 - val_loss: 0.0219 - 2s/epoch - 8ms/step\n",
      "Epoch 8/50\n",
      "263/263 - 2s - loss: 0.0310 - val_loss: 0.0238 - 2s/epoch - 8ms/step\n",
      "Epoch 9/50\n",
      "263/263 - 2s - loss: 0.0303 - val_loss: 0.0259 - 2s/epoch - 8ms/step\n",
      "Epoch 10/50\n",
      "263/263 - 2s - loss: 0.0299 - val_loss: 0.0198 - 2s/epoch - 8ms/step\n",
      "Epoch 11/50\n",
      "263/263 - 2s - loss: 0.0292 - val_loss: 0.0208 - 2s/epoch - 8ms/step\n",
      "Epoch 12/50\n",
      "263/263 - 2s - loss: 0.0295 - val_loss: 0.0225 - 2s/epoch - 8ms/step\n",
      "Epoch 13/50\n",
      "263/263 - 2s - loss: 0.0294 - val_loss: 0.0193 - 2s/epoch - 8ms/step\n",
      "Epoch 14/50\n",
      "263/263 - 2s - loss: 0.0296 - val_loss: 0.0350 - 2s/epoch - 8ms/step\n",
      "Epoch 15/50\n",
      "263/263 - 2s - loss: 0.0289 - val_loss: 0.0230 - 2s/epoch - 7ms/step\n",
      "Epoch 16/50\n",
      "263/263 - 2s - loss: 0.0293 - val_loss: 0.0188 - 2s/epoch - 8ms/step\n",
      "Epoch 17/50\n",
      "263/263 - 2s - loss: 0.0291 - val_loss: 0.0201 - 2s/epoch - 8ms/step\n",
      "Epoch 18/50\n",
      "263/263 - 2s - loss: 0.0293 - val_loss: 0.0209 - 2s/epoch - 8ms/step\n",
      "Epoch 19/50\n",
      "263/263 - 2s - loss: 0.0294 - val_loss: 0.0267 - 2s/epoch - 8ms/step\n",
      "Epoch 20/50\n",
      "263/263 - 2s - loss: 0.0286 - val_loss: 0.0193 - 2s/epoch - 8ms/step\n",
      "Epoch 21/50\n",
      "263/263 - 2s - loss: 0.0285 - val_loss: 0.0197 - 2s/epoch - 8ms/step\n",
      "Epoch 22/50\n",
      "263/263 - 2s - loss: 0.0287 - val_loss: 0.0192 - 2s/epoch - 8ms/step\n",
      "Epoch 23/50\n",
      "263/263 - 2s - loss: 0.0283 - val_loss: 0.0201 - 2s/epoch - 8ms/step\n",
      "Epoch 24/50\n",
      "263/263 - 2s - loss: 0.0283 - val_loss: 0.0255 - 2s/epoch - 8ms/step\n",
      "Epoch 25/50\n",
      "263/263 - 2s - loss: 0.0290 - val_loss: 0.0228 - 2s/epoch - 7ms/step\n",
      "Epoch 26/50\n",
      "263/263 - 2s - loss: 0.0280 - val_loss: 0.0223 - 2s/epoch - 8ms/step\n"
     ]
    }
   ],
   "source": [
    "x_data_np,y_data_np= datacreation(Timeline2)\n",
    "x_data,y_data = dataengineering(x_data_np,y_data_np)\n",
    "X_train,X_val,Y_train,Y_val = test_train_split(x_data,y_data) \n",
    "model_lstm = get_model2(X_train,Y_train)\n",
    "lstm_history = model_lstm.fit(X_train, Y_train, validation_data=(X_val, Y_val),\n",
    "epochs=50, verbose=2,batch_size = 16,\n",
    "callbacks = [keras.callbacks.EarlyStopping(monitor = 'val_loss', patience = 10, restore_best_weights = True)])"
   ]
  },
  {
   "cell_type": "code",
   "execution_count": 668,
   "metadata": {},
   "outputs": [
    {
     "name": "stdout",
     "output_type": "stream",
     "text": [
      "MAE: 0.018755\n"
     ]
    }
   ],
   "source": [
    "loss = model_lstm.evaluate(X_val, Y_val, verbose=0)\n",
    "print('MAE: %f' % loss)\n"
   ]
  },
  {
   "cell_type": "code",
   "execution_count": 671,
   "metadata": {},
   "outputs": [
    {
     "data": {
      "image/png": "[encoded data removed]",
      "text/plain": [
       "<Figure size 432x288 with 1 Axes>"
      ]
     },
     "metadata": {
      "needs_background": "light"
     },
     "output_type": "display_data"
    }
   ],
   "source": [
    "plot(lstm_history.history['loss'], label='Train loss')\n",
    "plot(lstm_history.history['val_loss'], label='Validation loss')\n",
    "plt.legend()\n",
    "plt.show()"
   ]
  },
  {
   "cell_type": "code",
   "execution_count": 672,
   "metadata": {},
   "outputs": [
    {
     "data": {
      "image/png": "[encoded data removed]",
      "text/plain": [
       "<Figure size 432x288 with 1 Axes>"
      ]
     },
     "metadata": {
      "needs_background": "light"
     },
     "output_type": "display_data"
    },
    {
     "data": {
      "image/png": "[encoded data removed]",
      "text/plain": [
       "<Figure size 432x288 with 1 Axes>"
      ]
     },
     "metadata": {
      "needs_background": "light"
     },
     "output_type": "display_data"
    },
    {
     "data": {
      "image/png": "[encoded data removed]",
      "text/plain": [
       "<Figure size 432x288 with 1 Axes>"
      ]
     },
     "metadata": {
      "needs_background": "light"
     },
     "output_type": "display_data"
    },
    {
     "data": {
      "image/png": "[encoded data removed]",
      "text/plain": [
       "<Figure size 432x288 with 1 Axes>"
      ]
     },
     "metadata": {
      "needs_background": "light"
     },
     "output_type": "display_data"
    }
   ],
   "source": [
    "#X left  axis value prediction\n",
    "yhat = model_lstm.predict(X_val, verbose=0)\n",
    "plt.plot(Y_val[:,0], label='y0')\n",
    "plt.plot(yhat[:,0], label='y0hat')\n",
    "plt.legend()\n",
    "plt.show()\n",
    "\n",
    "#Y left axis value prediction\n",
    "yhat = model_lstm.predict(X_val, verbose=0)\n",
    "plt.plot(Y_val[:,1], label='y1')\n",
    "plt.plot(yhat[:,1], label='y1hat')\n",
    "plt.legend()\n",
    "plt.show()\n",
    "\n",
    "#X right axis value prediction\n",
    "yhat = model_lstm.predict(X_val, verbose=0)\n",
    "plt.plot(Y_val[:,2], label='X right')\n",
    "plt.plot(yhat[:,2], label='X right pred')\n",
    "plt.legend()\n",
    "plt.show()\n",
    "\n",
    "#Y right axis value prediction\n",
    "yhat = model_lstm.predict(X_val, verbose=0)\n",
    "plt.plot(Y_val[:,3], label='Y right')\n",
    "plt.plot(yhat[:,3], label='Y right pred')\n",
    "plt.legend()\n",
    "plt.show()\n"
   ]
  },
  {
   "cell_type": "code",
   "execution_count": null,
   "metadata": {},
   "outputs": [],
   "source": []
  },
  {
   "cell_type": "code",
   "execution_count": null,
   "metadata": {},
   "outputs": [],
   "source": []
  }
 ],
 "metadata": {
  "kernelspec": {
   "display_name": "Python 3.9.12 ('TensorFlow')",
   "language": "python",
   "name": "python3"
  },
  "language_info": {
   "codemirror_mode": {
    "name": "ipython",
    "version": 3
   },
   "file_extension": ".py",
   "mimetype": "text/x-python",
   "name": "python",
   "nbconvert_exporter": "python",
   "pygments_lexer": "ipython3",
   "version": "3.9.12"
  },
  "orig_nbformat": 4,
  "vscode": {
   "interpreter": {
    "hash": "7842d1971238c40bc91f0e3c4b1f67715db27be3d2f267cdf8f729dc15e9bd8b"
   }
  }
 },
 "nbformat": 4,
 "nbformat_minor": 2
}
